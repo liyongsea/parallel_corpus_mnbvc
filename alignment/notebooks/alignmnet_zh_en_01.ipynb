{
 "cells": [
  {
   "cell_type": "code",
   "execution_count": 87,
   "id": "936f8e5a",
   "metadata": {},
   "outputs": [],
   "source": [
    "import transformers\n",
    "from transformers import AutoTokenizer, AutoModelForSeq2SeqLM\n",
    "\n",
    "tokenizer = AutoTokenizer.from_pretrained(\"Helsinki-NLP/opus-mt-zh-en\")\n",
    "model = AutoModelForSeq2SeqLM.from_pretrained(\"Helsinki-NLP/opus-mt-zh-en\")\n",
    "\n",
    "def translate_zh_to_en(text):\n",
    "    tokenized_text = tokenizer.prepare_seq2seq_batch(text, return_tensors='pt')\n",
    "    translation = model.generate(**tokenized_text)\n",
    "    return tokenizer.batch_decode(translation, skip_special_tokens=True)"
   ]
  },
  {
   "cell_type": "code",
   "execution_count": 200,
   "id": "bc649290",
   "metadata": {},
   "outputs": [],
   "source": [
    "def find_sentence_end(chinese_lines, similarities, max_range=3):\n",
    "    all_lines_end_with_period = all(line[-1] != \"。\" for line in chinese_lines)\n",
    "    \n",
    "    max_similarity_index = similarities.index(max(similarities))\n",
    "    \n",
    "    if chinese_lines[max_similarity_index][-1] == \"。\":\n",
    "        return max_similarity_index\n",
    "        \n",
    "    if all_lines_end_with_period:\n",
    "        return max_similarity_index\n",
    "    \n",
    "    range_count = 0\n",
    "\n",
    "    while range_count < max_range:\n",
    "        range_count += 1\n",
    "        left_index = max(max_similarity_index - range_count, 0)\n",
    "        right_index = min(max_similarity_index + range_count, len(chinese_lines) - 1)\n",
    "        \n",
    "        left_include_period = chinese_lines[left_index][-1] == \"。\"\n",
    "        right_include_period = chinese_lines[right_index][-1] == \"。\"\n",
    "\n",
    "        if left_include_period ^ right_include_period:\n",
    "            return left_index if left_include_period else right_index\n",
    "        \n",
    "        if left_include_period and right_include_period:\n",
    "            return similarities.index(max([similarities[left_index], similarities[right_index]]))\n",
    "            \n",
    "\n",
    "    return max_similarity_index"
   ]
  },
  {
   "cell_type": "code",
   "execution_count": 214,
   "id": "802a51cc",
   "metadata": {},
   "outputs": [],
   "source": [
    "from sklearn.feature_extraction.text import TfidfVectorizer\n",
    "from sklearn.metrics.pairwise import cosine_similarity\n",
    "from tqdm import tqdm\n",
    "\n",
    "\n",
    "def find_chinese_paragraph_end_index(english_paragraph, remainder_chinese_lines, vectorizer):\n",
    "    paragraph_vector = vectorizer.transform([english_paragraph])\n",
    "    \n",
    "    is_similarity_begin_descending = False\n",
    "    similarities = []\n",
    "    for index, _ in enumerate(remainder_chinese_lines):\n",
    "        chinese_line_translated_en = translate_zh_to_en(\"\".join(chinese_lines[:index+1]))\n",
    "        chinese_line_vector = vectorizer.transform([chinese_line_translated_en[0]])\n",
    "        \n",
    "        similarity = cosine_similarity(paragraph_vector, chinese_line_vector)[0][0]\n",
    "        similarities.append(similarity)\n",
    "        \n",
    "        if similarity == 1:\n",
    "            break\n",
    "            \n",
    "        if len(similarities) > 1 and similarity < similarities[index-1]:\n",
    "            if is_similarity_begin_descending:\n",
    "                break\n",
    "            else:\n",
    "                is_similarity_begin_descending = True\n",
    "        else:\n",
    "            is_similarity_begin_descending = False\n",
    "            \n",
    "    return find_sentence_end(remainder_chinese_lines, similarities)"
   ]
  },
  {
   "cell_type": "code",
   "execution_count": 215,
   "id": "1e9bb41d",
   "metadata": {},
   "outputs": [],
   "source": [
    "def align_chinese_lines(english_paragraphs, chinese_lines):\n",
    "    aligned_chinese = []\n",
    "    vectorizer = TfidfVectorizer()\n",
    "    vectorizer.fit(english_paragraphs)\n",
    "    \n",
    "    last_zh_paragraph_end_index = 0\n",
    "    for english_paragraph in tqdm(english_paragraphs):\n",
    "        max_similarity_index = find_chinese_paragraph_end_index(english_paragraph, chinese_lines[last_zh_paragraph_end_index:], vectorizer)\n",
    "        \n",
    "        round_zh_paragraph_end_index = last_zh_paragraph_end_index + max_similarity_index + 1\n",
    "        \n",
    "        aligned_chinese.append(\"\".join(chinese_lines[last_zh_paragraph_end_index: round_zh_paragraph_end_index]))\n",
    "\n",
    "        last_zh_paragraph_end_index = round_zh_paragraph_end_index\n",
    "        \n",
    "    return aligned_chinese"
   ]
  },
  {
   "cell_type": "code",
   "execution_count": 213,
   "id": "83a2fa65",
   "metadata": {
    "scrolled": false
   },
   "outputs": [
    {
     "name": "stderr",
     "output_type": "stream",
     "text": [
      "100%|███████████████████████████████████████████████████████████████████████████████████████████████████████████████████| 2/2 [00:15<00:00,  7.91s/it]\n"
     ]
    },
    {
     "data": {
      "text/plain": [
       "['全球变暖是一个紧迫的问题，影响着整个地球。温室气体排放的增加导致气温上升和天气模式的不可预测性。此外，极地冰盖和冰川的融化导致海平面上升，对沿海社区构成威胁。政府和个人立即采取行动，减少排放并转向可持续能源是至关重要的。',\n",
       " '教育在塑造个人和社会未来方面起着至关重要的作用。它赋予个人知识和技能，使他们能够追求自己的愿望并为社区做出贡献。此外，教育通过为边缘群体提供机会，促进社会平等并减少贫困。对教育的投资是对每个人更加光明未来的投资。']"
      ]
     },
     "execution_count": 213,
     "metadata": {},
     "output_type": "execute_result"
    }
   ],
   "source": [
    "english_paragraphs = [\n",
    "    \"Global warming is a pressing issue that affects the entire planet. The increase in greenhouse gas emissions has led to rising temperatures and unpredictable weather patterns. In addition, the melting of polar ice caps and glaciers has contributed to the rise in sea levels, posing a threat to coastal communities. It is crucial for governments and individuals to take immediate action to reduce emissions and transition to sustainable energy sources.\",\n",
    "    \"Education plays a vital role in shaping the future of individuals and societies. It empowers individuals with knowledge and skills, enabling them to pursue their aspirations and contribute to their communities. Moreover, education promotes social equality and reduces poverty by providing opportunities for marginalized groups. Investment in education is an investment in a brighter future for everyone.\"\n",
    "]\n",
    "\n",
    "chinese_lines = [\n",
    "    \"全球变暖是一个紧迫的问题，\",\n",
    "    \"影响着整个地球。温室气体排放\",\n",
    "    \"的增加导致气温上升和天气模式的不可预\",\n",
    "    \"测性。此外，极地冰盖和冰川的融化导致\",\n",
    "    \"海平面上升，对沿海社区构成威胁。\",\n",
    "    \"政府和个人立即采取行动，减少排放并转\",\n",
    "    \"向可持续能源是至关重要的。\",\n",
    "    \"教育在塑造个人和社会\",\n",
    "    \"未来方面起着至关重要的作用。它赋予\",\n",
    "    \"个人知识和技能，使他们能够追求自己\",\n",
    "    \"的愿望并为社区做出贡献。此外，教育通\",\n",
    "    \"过为边缘群体提供机会，促进社会平等并减\",\n",
    "    \"少贫困。对教育的投资是对每个人更加光\",\n",
    "    \"明未来的投资。\"\n",
    "]\n",
    "\n",
    "align_chinese_lines(english_paragraphs, chinese_lines)"
   ]
  },
  {
   "cell_type": "code",
   "execution_count": null,
   "id": "1684c9a6",
   "metadata": {},
   "outputs": [],
   "source": []
  }
 ],
 "metadata": {
  "kernelspec": {
   "display_name": "Python 3 (ipykernel)",
   "language": "python",
   "name": "python3"
  },
  "language_info": {
   "codemirror_mode": {
    "name": "ipython",
    "version": 3
   },
   "file_extension": ".py",
   "mimetype": "text/x-python",
   "name": "python",
   "nbconvert_exporter": "python",
   "pygments_lexer": "ipython3",
   "version": "3.10.6"
  }
 },
 "nbformat": 4,
 "nbformat_minor": 5
}
