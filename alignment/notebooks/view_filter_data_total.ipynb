{
 "cells": [
  {
   "cell_type": "markdown",
   "id": "d383fd71",
   "metadata": {},
   "source": [
    "# Open log file"
   ]
  },
  {
   "cell_type": "code",
   "execution_count": 173,
   "id": "ca2ad7f0",
   "metadata": {},
   "outputs": [],
   "source": [
    "import json\n",
    "from tqdm import tqdm\n",
    "\n",
    "\n",
    "def read_log():\n",
    "    log_data_list = []\n",
    "    error_line_total = 0\n",
    "    \n",
    "    with open(\"../../preprocessed_log.jsonl\", \"r\") as f:\n",
    "        for line in tqdm(list(f)):\n",
    "            \n",
    "            # 此处未知原因存在行不是json的情况，大约占比10%          \n",
    "            try:\n",
    "                log_data_list.append(json.loads(line))\n",
    "            except:\n",
    "                error_line_total+=1\n",
    "        print(f\"error line number is {error_line_total}\")\n",
    "        \n",
    "    return log_data_list"
   ]
  },
  {
   "cell_type": "code",
   "execution_count": 113,
   "id": "700823ae",
   "metadata": {},
   "outputs": [
    {
     "name": "stderr",
     "output_type": "stream",
     "text": [
      "100%|███████████████████████████████████████████████████████████████████████████████████████████████████| 3042725/3042725 [00:05<00:00, 573362.40it/s]"
     ]
    },
    {
     "name": "stdout",
     "output_type": "stream",
     "text": [
      "error line number is 31111\n"
     ]
    },
    {
     "name": "stderr",
     "output_type": "stream",
     "text": [
      "\n"
     ]
    },
    {
     "data": {
      "text/plain": [
       "{'record': '615937',\n",
       " 'lang': 'zh',\n",
       " 'page': '0',\n",
       " 'reason': 'line_freq: 11, pages: 11',\n",
       " 'filtered': '联合国 E/CN.3/2008/1'}"
      ]
     },
     "execution_count": 113,
     "metadata": {},
     "output_type": "execute_result"
    }
   ],
   "source": [
    "log_data = read_log()\n",
    "log_data[0]"
   ]
  },
  {
   "cell_type": "code",
   "execution_count": 177,
   "id": "5ce97ddf",
   "metadata": {},
   "outputs": [
    {
     "data": {
      "text/plain": [
       "15291"
      ]
     },
     "execution_count": 177,
     "metadata": {},
     "output_type": "execute_result"
    }
   ],
   "source": [
    "record_total_number = len(set([row[\"record\"] for row in log_data]))\n",
    "record_total_number"
   ]
  },
  {
   "cell_type": "markdown",
   "id": "342b0875",
   "metadata": {},
   "source": [
    "# view filtered information for record"
   ]
  },
  {
   "cell_type": "code",
   "execution_count": 114,
   "id": "5a6f6e6d",
   "metadata": {},
   "outputs": [],
   "source": [
    "def print_record_filtered_information(record, log_data):\n",
    "    log_data = filter(lambda row:int(row[\"record\"]) == record, log_data)\n",
    "    for row in sorted(log_data, key=lambda x: x['reason']):\n",
    "        print(\"=============================================================\")\n",
    "        print()\n",
    "        print(f\"lang => {row['lang']}\")\n",
    "        print()\n",
    "        print(f\"reason => {row['reason']}\")\n",
    "        print()\n",
    "        print(f\"filtered str => {row['filtered']}\")\n",
    "        print()"
   ]
  },
  {
   "cell_type": "code",
   "execution_count": 115,
   "id": "7d268fa2",
   "metadata": {
    "scrolled": true
   },
   "outputs": [
    {
     "name": "stdout",
     "output_type": "stream",
     "text": [
      "=============================================================\n",
      "\n",
      "lang => zh\n",
      "\n",
      "reason => annotation block\n",
      "\n",
      "filtered str => ____________________________ \r\n",
      "* 本摘要汇编使用了《贸易法委员会法规的判例法》（《法规的判例法》）摘要中所引用的\r\n",
      "判决书全文和脚注中所列的其他引文。这些摘要原意仅作为基本判决提要，可能不反映汇\r\n",
      "编中表述的所有观点。建议读者查阅所列法院判决书和仲裁裁决书全文，而不只依靠《法\r\n",
      "规的判例法》摘要。\r\n",
      "V.04-54724 \r\n",
      "联合国国际贸易法委员会 \r\n",
      "贸易法委员会关于《联合国国际货物销售合同公约》 \r\n",
      "判例法摘要汇编*\r\n",
      "第二条 \r\n",
      "本公约不适用于以下的销售： \r\n",
      "(a) 购供私人、家人或家庭使用的货物的销售，除非卖方在订立合同前\r\n",
      "任何时候或订立合同时不知道而且没有理由知道这些货物是购供\r\n",
      "任何这种使用； \r\n",
      "(b) 经由拍卖的销售； \r\n",
      "(c) 根据法律执行令状或其它令状的销售； \r\n",
      "(d) 公债、股票、投资证券、流通票据或货币的销售； \r\n",
      "(e) 船舶、船只、气垫船或飞机的销售； \r\n",
      "(f) 电力的销售。 \n",
      "\n",
      "=============================================================\n",
      "\n",
      "lang => fr\n",
      "\n",
      "reason => annotation block\n",
      "\n",
      "filtered str => _______________ \r\n",
      " * Le présent Précis de jurisprudence a été établi à partir du texte intégral des décisions citées dans \r\n",
      "les sommaires des Recueils de jurisprudence concernant les textes de la CNUDCI et d'autres \r\n",
      "décisions mentionnées dans les notes. Ces sommaires n'étant par définition que des résumés de \r\n",
      "décisions, ils ne rendent pas nécessairement compte de tous les points examinés dans le Précis, \r\n",
      "et il est donc conseillé au lecteur de consulter également le texte intégral des décisions \r\n",
      "judiciaires et sentences arbitrales citées. \r\n",
      " \r\n",
      "V.04-54726 \r\n",
      "Commission des Nations Unies \r\n",
      " pour le droit commercial international \r\n",
      " \r\n",
      " \r\n",
      "Précis de jurisprudence de la CNUDCI concernant la \r\n",
      "Convention des Nations Unies sur les contrats \r\n",
      "de vente internationale de marchandises* \r\n",
      "Article 2 \r\n",
      " La présente Convention ne régit pas les ventes : \r\n",
      " a) de marchandises achetées pour un usage personnel, familial \r\n",
      "ou domestique, à moins que le vendeur, à un moment quelconque avant \r\n",
      "la conclusion ou lors de la conclusion du contrat, n'ait pas su et n'ait pas \r\n",
      "été censé savoir que ces marchandises étaient achetées pour un tel \r\n",
      "usage ; \r\n",
      " b) aux enchères ; \r\n",
      "c) sur saisie ou de quelque autre manière par autorité de justice ; \r\n",
      "d) de valeurs mobilières, effets de commerce et monnaies ; \r\n",
      "e) de navires, bateaux, aéroglisseurs et aéronefs ; \r\n",
      "f) d'électricité. \n",
      "\n",
      "=============================================================\n",
      "\n",
      "lang => fr\n",
      "\n",
      "reason => annotation block\n",
      "\n",
      "filtered str => __________________ \r\n",
      "1 Conférence des Nations Unies sur les contrats de vente internationale de marchandises, Vienne, \r\n",
      "10 mars - 11 avril 1980, Documents officiels, Documents de la Conférence et comptes rendus \r\n",
      "analytiques des séances plénières et des séances des commissions principales, 1981, 16 (ci-après \r\n",
      "appelé \"documents officiels\"). \r\n",
      "2 Voir Bundesgerichtshof, Allemagne, 31 octobre 2001, Internationales Handelsrecht, 2002, 16. 3 Voir CNUDCI, Décision 190 [Oberster Gerichtshof, Autriche, 11 février 1997]. \r\n",
      "4 Voir CNUDCI, Décision 213 [Kantonsgericht Nidwalden, Suisse, 5 juin 1996] ; CNUDCI, \r\n",
      "Décision 190 [Oberster Gerichtshof, Autriche, 11 février 1997]. 5 Voir Rechtbank Arnhem, 27 mai 1993, Nederlands Internationaal Privaatrecht, 1994, n° 261. \r\n",
      "6 Voir, toutefois, Landgericht Düsseldorf, 11 octobre 1995, accessible sur l'Internet \r\n",
      "<http://www.jura.uni-freiburg.de/ipr1/cisg>, concernant l'application de la Convention à la vente \r\n",
      "d'un générateur destiné à un usage personnel. 7 Pour ces exemples, voir Documents officiels, note 1 ci-dessus, page 17. \r\n",
      "8 Voir Bundesgerichtshof, Allemagne, 31 octobre 2001, Internationales Handelsrecht, 2002, 16. \r\n",
      "9 Id.\n",
      "\n",
      "=============================================================\n",
      "\n",
      "lang => fr\n",
      "\n",
      "reason => annotation block\n",
      "\n",
      "filtered str => __________________ \r\n",
      "10 Pour les décisions excluant l'applicabilité de la Convention à la vente d'actions, voir CNUDCI, \r\n",
      "Décision 260, Suisse, 1998 ; Chambre de commerce de Zurich, tribunal arbitral, ZHK 273/95, \r\n",
      "Yearbook Commercial Arbitration, 1998, 128 ff. \r\n",
      "11 Pour les décisions d'inapplicabilité de la Convention aux contrats de vente de navires, voir \r\n",
      "Tribunal d'arbitrage commercial international de la Chambre de commerce et d'industrie de la \r\n",
      "Fédération de Russie, Décision 236/1997, accessible sur l'Internet \r\n",
      "<http://cisgw3.law.pace.edu/cases/980406r1.html> ; procédure d'arbitrage de la Chambre \r\n",
      "yougoslave de l'économie, 15 avril 1999, Décision T-23/97, accesible sur l'Internet \r\n",
      "<http://cisgw3.law.pace.edu/cases/990415y1.html>. 12 Pour l'inapplicabilité de la Convention à un contrat de vente d'aéronef, voir le Tribunal \r\n",
      "d'arbitrage commercial international de la Chambre de commerce et d'industrie de la Fédération \r\n",
      "de Russie, Décision 255/1996, accessible sur l'Internet \r\n",
      "<http://cisgw3.law.pace.edu/cases/970902r1.html >. 13 Voir CNUDCI, Décision 53 [Legfelsóbb Biróság, Hongrie, 25 septembre 1992]. \r\n",
      "14 Voir Tribunal arbitral de la Commission maritime russe, 18 décembre 1998, accesible sur \r\n",
      "l'Internet <http://cisgw3.law.pace.edu/cisg/text/draft/981218case.html>. \n",
      "\n",
      "=============================================================\n",
      "\n",
      "lang => es\n",
      "\n",
      "reason => annotation block\n",
      "\n",
      "filtered str => _______________ \r\n",
      " * El presente compendio se preparó a partir del texto completo de las decisiones que se citan en \r\n",
      "los resúmenes CLOUT y a la luz de otras fuentes citadas a pie de página. Como en esos textos \r\n",
      "sólo se sintetizan las decisiones de fondo, tal vez no todos los puntos que se exponen en el \r\n",
      "presente compendio aparezcan en ellos. Se aconseja a los lectores que, en vez de utilizar \r\n",
      "únicamente los resúmenes CLOUT, consulten el texto completo de los fallos judiciales y laudos \r\n",
      "arbitrales enumerados. \r\n",
      "V.04-54728 \r\n",
      "Comisión de las Naciones Unidas \r\n",
      " para el Derecho Mercantil Internacional \r\n",
      " \r\n",
      " \r\n",
      "Compendio de la CNUDMI sobre jurisprudencia relativa a la \r\n",
      "Convención de las Naciones Unidas sobre los Contratos de \r\n",
      "Compraventa Internacional de Mercaderías* \r\n",
      "Artículo 2 \r\n",
      " La presente Convención no se aplicará a las compraventas: \r\n",
      " (a) de mercaderías compradas para uso personal, familiar o \r\n",
      "doméstico, salvo que el vendedor, en cualquier momento antes de la \r\n",
      "celebración del contrato o en el momento de su celebración, no hubiera \r\n",
      "tenido ni debiera haber tenido conocimiento de que las mercaderías se \r\n",
      "compraban para ese uso; \r\n",
      " (b) en subastas; \r\n",
      " (c) judiciales; \r\n",
      " (d) de valores mobiliarios, títulos o efectos de comercio y dinero; \r\n",
      " (e) de buques, embarcaciones, aerodeslizadores y aeronaves; \r\n",
      " (f) de electricidad. \n",
      "\n",
      "=============================================================\n",
      "\n",
      "lang => es\n",
      "\n",
      "reason => annotation block\n",
      "\n",
      "filtered str => __________________ \r\n",
      "1 Conferencia de las Naciones Unidas sobre los Contratos de Compraventa Internacional de \r\n",
      "Mercaderías, Viena, 10 de marzo - 11 de abril de 1980, Documentos Oficiales, Documentos de la \r\n",
      "Conferencia y Actas resumidas de las sesiones plenarias y de las sesiones de las Comisiones \r\n",
      "Principales, 1981, 17 (en lo sucesivo “Documentos Oficiales”). 2 Véase Bundesgerichtshof, Alemania, 31 de octubre de 2001, Internationales Handelsrecht, 2002, \r\n",
      "16. 3 Véase el caso CLOUT No. 190 [Oberster Gerichtshof, Austria, 11 de febrero de 1997]. \r\n",
      "4 Véase el caso CLOUT No. 213 [Kantonsgericht Nidwalden, Suiza, 5 de junio de 1996]; el caso \r\n",
      "CLOUT No. 190 [Oberster Gerichtshof, Austria, 11 de febrero de 1997]. 5 Véase Rechtbank Arnhem, 27 de mayo de 1993, Nederlands Internationaal Privaatrecht, 1994, \r\n",
      "No. 261. 6 Véase, sin embargo, Landgericht Düsseldorf, 11 de octubre de 1995, puede consultarse en la \r\n",
      "siguiente dirección de Internet: http://www.jura.uni-freiburg.de/ipr1/cisg, que aplica la \r\n",
      "Convención a la compraventa de un generador destinado a uso personal. 7 Para ejemplos de ese tipo, véase Documentos Oficiales, nota 1 supra, en pág. 17. \r\n",
      "8 Véase Bundesgerichtshof, Alemania, 31 de octubre de 2001, Internationales Handelsrecht, 2002, \r\n",
      "16. 9 Id. \n",
      "\n",
      "=============================================================\n",
      "\n",
      "lang => es\n",
      "\n",
      "reason => annotation block\n",
      "\n",
      "filtered str => __________________ \r\n",
      "10 Para consultar decisiones que excluyen la aplicabilidad de la Convención a la venta de acciones, \r\n",
      "véase el caso CLOUT No. 260, Suiza, 1998; Tribunal Arbitral de la Cámara de Comercio de \r\n",
      "Zurich, ZHK 273/95, Yearbook Commercial Arbitration, 1998, 128 y ss. \r\n",
      "11 Para consultar casos de inaplicabilidad de la Convención a los contratos de compraventa de \r\n",
      "naves, véase Tribunal de Arbitraje Comercial Internacional de la Cámara de Comercio e \r\n",
      "Industria de la Federación de Rusia, laudo No. 236/1997, puede consultarse en la siguiente \r\n",
      "dirección de Internet: <http://cisgw3.law.pace.edu/cases/980406r1.html>; Cámara yugoslava de \r\n",
      "Procedimiento de Arbitraje Económico, 15 de abril 1999, laudo No. T-23/97, puede consultarse \r\n",
      "en la siguiente dirección de Internet: <http://cisgw3.law.pace.edu/cases/990415y1.html>. 12 Para la inaplicabilidad de la Convención a un contrato de compraventa de una aeronave, véase \r\n",
      "Tribunal de Arbitraje Comercial Internacional de la Cámara de Comercio e Industria de la \r\n",
      "Federación de Rusia, laudo No. 255/1996, puede consultarse en la siguiente dirección de \r\n",
      "Internet: <http://cisgw3.law.pace.edu/cases/970902r1.html >. 13 Véase el caso CLOUT No. 53 [Legfelsóbb Biróság, Hungría, 25 de septiembre de 1992]. \r\n",
      "14 Véase Tribunal Arbitral de la Comisión Marítima de Rusia, 18 de diciembre de 1998, puede \r\n",
      "consultarse en la siguiente dirección de Internet: \r\n",
      "http://cisgw3.law.pace.edu/cisg/text/draft/981218case.html. \n",
      "\n",
      "=============================================================\n",
      "\n",
      "lang => ru\n",
      "\n",
      "reason => annotation block\n",
      "\n",
      "filtered str => _______________ \r\n",
      "* Настоящий сборник подготовлен с использованием полных текстов решений, которые\r\n",
      "цитируются в выдержках из дел, вошедших в сборник “Прецедентное право по текстам\r\n",
      "ЮНСИТРАЛ” (ППТЮ), и других указанных в сносках источников. Выдержки даются лишь\r\n",
      "как резюме соответствующих судебных решений и могут отражать не все вопросы, \r\n",
      "затрагиваемые в настоящем сборнике. Читателям рекомендуется не ограничиваться\r\n",
      "выдержками из ППТЮ и ознакомиться с полными текстами упоминаемых здесь судебных и\r\n",
      "арбитражных решений. \r\n",
      "V.04-54727 \r\n",
      "Комиссия Организации Объединенных Наций \r\n",
      "по праву международной торговли\r\n",
      " \r\n",
      "Сборник ЮНСИТРАЛ по прецедентному праву, \r\n",
      "касающемуся Конвенции \r\n",
      "Организации Объединенных Наций \r\n",
      "о международной купле-продаже товаров* \r\n",
      "Статья 2 \r\n",
      " Настоящая Конвенция не применяется к продаже: \r\n",
      " а) товаров, которые приобретаются для личного, семейного\r\n",
      "или домашнего использования, за исключением случаев, когда\r\n",
      "продавец в любое время до или в момент заключения договора не\r\n",
      "знал и не должен был знать, что товары приобретаются для такого\r\n",
      "использования; \r\n",
      " b) с аукциона; \r\n",
      " с) в порядке исполнительного производства или иным\r\n",
      "образом в силу закона; \r\n",
      " d) фондовых бумаг, акций, обеспечительных бумаг, \r\n",
      "оборотных документов и денег; \r\n",
      " е) судов водного и воздушного транспорта, а также судов на\r\n",
      "воздушной подушке; \r\n",
      " f) электроэнергии. \n",
      "\n",
      "=============================================================\n",
      "\n",
      "lang => ru\n",
      "\n",
      "reason => annotation block\n",
      "\n",
      "filtered str => __________________ \r\n",
      "1 Конференция Организации Объединенных Наций по договорам международной купли-продажи товаров, Вена, 10 марта – 11 апреля 1980 года, Официальные отчеты, \r\n",
      "Документы Конференции и краткие отчеты пленарных заседаний и заседаний главных\r\n",
      "комитетов, 1981 год, стр. 18 (в дальнейшем “Официальные отчеты”). 2 См. Bundesgerichtshof, Германия, 31 октября 2001 года, в: Internationales Handelsrecht, \r\n",
      "2002, 16. \r\n",
      "3 См. ППТЮ, дело № 190 [Oberster Gerichtshof, Австрия, 11 февраля 1997 года]. \r\n",
      "4 См. ППТЮ, дело № 213 [Kantonsgericht Nidwalden, Швейцария, 5 июня 1996 года]; \r\n",
      "ППТЮ, дело № 190 [Oberster Gerichtshof, Австрия, 11 февраля 1997 года]. 5 См. Rechtbank Arnhem, 27 мая 1993 года, в: Nederlands Internationaal Privaatrecht, 1994, \r\n",
      "No. 261. \r\n",
      "6 См., однако, Landgericht Düsseldorf, 11 октября 1995 года, имеется в Интернет на сайте: \r\n",
      "http://www.jura.uni-freiburg.de/ipr1/cisg, где Конвенция применяется к продаже генератора, \r\n",
      "предназначенного для личного использования. 7 Об этих примерах см. “Официальные отчеты”, выше, сноска 1, стр. 18. \r\n",
      "8 См. Bundesgerichtshof, Германия, 31 октября 2001 года, в: Internationales Handelsrecht, \r\n",
      "2002, 16. \r\n",
      "9 Там же. \n",
      "\n",
      "=============================================================\n",
      "\n",
      "lang => ru\n",
      "\n",
      "reason => annotation block\n",
      "\n",
      "filtered str => _____________ \r\n",
      "__________________ \r\n",
      "10 О решениях об исключении продажи акций из сферы применения Конвенции см. ППТЮ, \r\n",
      "дело № 260, Швейцария, 1998 год; Zurich Chamber of Commerce Arbitral Tribunal, ZHK \r\n",
      "273/95, Yearbook Commercial Arbitration, 1998, 128 ff. \r\n",
      "11 О делах в отношении неприменимости Конвенции к договорам купли-продажи судов\r\n",
      "водного транспорта см. Международный коммерческий арбитражный суд при Торгово-промышленной палате Российской Федерации, дело № 236/1997, имеется в Интернет на\r\n",
      "сайте: <http://cisgw3.law.pace.edu/cases/980406r1.html>; Хозяйственный арбитраж\r\n",
      "Югославии, 15 апреля 1999 года, решение № T-23/97, имеется в Интернет на сайте: \r\n",
      "<http://cisgw3.law.pace.edu/cases/990415y1.html>. 12 О делах в отношении неприменимости Конвенции к договорам купли-продажи судов\r\n",
      "воздушного транспорта см. Международный коммерческий арбитражный суд при Торгово-промышленной палате Российской Федерации, дело № 255/1996, имеется в Интернет на\r\n",
      "сайте: <http://cisgw3.law.pace.edu/cases/970902r1.html >. 13 См. ППТЮ, дело № 53 [Legfelsóbb Biróság, Венгрия, 25 сентября 1992 года]. \r\n",
      "14 См. Морская арбитражная комиссия Российской Федерации, 18 декабря 1998 года, имеется\r\n",
      "в Интернет на сайте: http://cisgw3.law.pace.edu/cisg/text/draft/981218case.html. \n",
      "\n",
      "=============================================================\n",
      "\n",
      "lang => en\n",
      "\n",
      "reason => annotation block\n",
      "\n",
      "filtered str => _______________ \r\n",
      " * The present digest was prepared using the full text of the decisions cited in the Case Law on \r\n",
      "UNCITRAL Texts (CLOUT) abstracts and other citations listed in the footnotes. The abstracts \r\n",
      "are intended to serve only as summaries of the underlying decisions and may not reflect all the \r\n",
      "points made in the digest. Readers are advised to consult the full texts of the listed court and \r\n",
      "arbitral decisions rather than relying solely on the CLOUT abstracts. \r\n",
      "V.04-54725 (E) \r\n",
      "*0454725* \r\n",
      "United Nations Commission \r\n",
      " on International Trade Law \r\n",
      " \r\n",
      " \r\n",
      "UNCITRAL Digest of case law on the United Nations \r\n",
      "Convention on the International Sale of Goods*\r\n",
      "Article 2 \r\n",
      " This Convention does not apply to sales: \r\n",
      " (a) Of goods bought for personal, family or household use, unless \r\n",
      "the seller, at any time before or at the conclusion of the contract, neither \r\n",
      "knew nor ought to have known that the goods were bought for any such \r\n",
      "use; \r\n",
      " (b) By auction; \r\n",
      " (c) On execution or otherwise by authority of law; \r\n",
      " (d) Of stocks, shares, investment securities, negotiable \r\n",
      "instruments or money; \r\n",
      " (e) Of ships, vessels, hovercraft or aircraft; \r\n",
      " (f) Of electricity. \n",
      "\n",
      "=============================================================\n",
      "\n",
      "lang => en\n",
      "\n",
      "reason => annotation block\n",
      "\n",
      "filtered str => __________________ \r\n",
      "1 United Nations Conference on Contracts for the International Sale of Goods, Vienna, 10 March-11 April 1980, Official Records, Documents of the Conference and Summary Records of the \r\n",
      "Plenary Meetings and of the Meetings of the Main Committee, 1981, 16 (hereinafter “Official \r\n",
      "Records”). \r\n",
      "2 See Bundesgerichtshof, Germany, 31 October 2001, Internationales Handelsrecht, 2002, 16. 3 See CLOUT case No. 190 [Oberster Gerichtshof, Austria, 11 February 1997]. \r\n",
      "4 See CLOUT case No. 213 [Kantonsgericht Nidwalden, Switzerland, 5 June 1996]; CLOUT case \r\n",
      "No. 190 [Oberster Gerichtshof, Austria, 11 February 1997]. 5 See Rechtbank Arnhem, 27 May 1993, Nederlands Internationaal Privaatrecht, 1994, No. 261. \r\n",
      "6 See, however, Landgericht Düsseldorf, 11 October 1995, available on the Internet at \r\n",
      "http://www.jura.uni-freiburg.de/ipr1/cisg, applying the Convention on the sale of a generator \r\n",
      "destined for personal use. \r\n",
      "7 For these examples, see Official Records, supra note 1, at 16. \r\n",
      "8 See Bundesgerichtshof, Germany, 31 October 2001, Internationales Handelsrecht, 2002, 16. \r\n",
      "9 Id. \n",
      "\n",
      "=============================================================\n",
      "\n",
      "lang => en\n",
      "\n",
      "reason => annotation block\n",
      "\n",
      "filtered str => __________________ \r\n",
      "10 For decisions excluding the Convention’s applicability to the sale of shares, see CLOUT case \r\n",
      "No. 260, Switzerland, 1998; Zurich Chamber of Commerce Arbitral Tribunal, ZHK 273/95, \r\n",
      "Yearbook Commercial Arbitration, 1998, 128 ff. \r\n",
      "11 For cases of inapplicability of the Convention to contract for the sale of ships, see Tribunal of \r\n",
      "International Commercial Arbitration at the Russian Federation Chamber of Commerce and \r\n",
      "Industry, award No. 236/1997, available on the Internet at \r\n",
      "<http://cisgw3.law.pace.edu/cases/980406r1.html>; Yugoslav Chamber of Economy Arbitration \r\n",
      "Proceeding 15 April 1999, award No. T-23/97, available on the Internet at \r\n",
      "<http://cisgw3.law.pace.edu/cases/990415y1.html>. 12 For the inapplicability of the Convention to a contract for the sale of an aircraft, see Tribunal of \r\n",
      "International Commercial Arbitration at the Russian Federation Chamber of Commerce and \r\n",
      "Industry, award, No. 255/1996, available on the Internet at \r\n",
      "<http://cisgw3.law.pace.edu/cases/970902r1.html >. 13 See CLOUT case No. 53 [Legfelsóbb Biróság, Hungary, 25 September 1992]. \r\n",
      "14 See Russian Maritime Commission Arbitral Tribunal, 18 December 1998, available on the \r\n",
      "Internet at http://cisgw3.law.pace.edu/cisg/text/draft/981218case.html. \n",
      "\n",
      "=============================================================\n",
      "\n",
      "lang => zh\n",
      "\n",
      "reason => line_freq: 2, pages: 3\n",
      "\n",
      "filtered str => 联合国 A/CN.9/SER.C/DIGEST/CISG/2\n",
      "\n",
      "=============================================================\n",
      "\n",
      "lang => zh\n",
      "\n",
      "reason => line_freq: 2, pages: 3\n",
      "\n",
      "filtered str => A/CN.9/SER.C/DIGEST/CISG/2\n",
      "\n",
      "=============================================================\n",
      "\n",
      "lang => fr\n",
      "\n",
      "reason => line_freq: 2, pages: 3\n",
      "\n",
      "filtered str => Nations Unies A/CN.9/SER.C/DIGEST/CISG/2\n",
      "\n",
      "=============================================================\n",
      "\n",
      "lang => fr\n",
      "\n",
      "reason => line_freq: 2, pages: 3\n",
      "\n",
      "filtered str => A/CN.9/SER.C/DIGEST/CISG/2\n",
      "\n",
      "=============================================================\n",
      "\n",
      "lang => es\n",
      "\n",
      "reason => line_freq: 2, pages: 3\n",
      "\n",
      "filtered str => A/CN.9/SER.C/DIGEST/CISG/2\n",
      "\n",
      "=============================================================\n",
      "\n",
      "lang => en\n",
      "\n",
      "reason => line_freq: 2, pages: 3\n",
      "\n",
      "filtered str => United Nations A/CN.9/SER.C/DIGEST/CISG/2\n",
      "\n",
      "=============================================================\n",
      "\n",
      "lang => en\n",
      "\n",
      "reason => line_freq: 2, pages: 3\n",
      "\n",
      "filtered str => A/CN.9/SER.C/DIGEST/CISG/2\n",
      "\n",
      "=============================================================\n",
      "\n",
      "lang => ru\n",
      "\n",
      "reason => overall_tk_freq: 10, all_pages: 15\n",
      "\n",
      "filtered str => A/CN.9/SER.C/DIGEST/CISG/2\n",
      "\n"
     ]
    }
   ],
   "source": [
    "print_record_filtered_information(544851, log_data)"
   ]
  },
  {
   "cell_type": "markdown",
   "id": "b2de93fc",
   "metadata": {},
   "source": [
    "# Count the number of filters for each record"
   ]
  },
  {
   "cell_type": "code",
   "execution_count": 116,
   "id": "a38e24b2",
   "metadata": {},
   "outputs": [],
   "source": [
    "def count_record_filters_total(log_data):\n",
    "    filted_record_reason = {}\n",
    "\n",
    "    for row in filted_data_list:\n",
    "        if not row[\"record\"] in filted_record_reason:\n",
    "            filted_record_reason[row[\"record\"]] = {}\n",
    "\n",
    "        reason = row[\"reason\"].split(\",\")[0].split(\": \")[0]\n",
    "\n",
    "        if reason in filted_record_reason[row[\"record\"]]:\n",
    "            filted_record_reason[row[\"record\"]][reason] += 1\n",
    "        else:\n",
    "            filted_record_reason[row[\"record\"]][reason] = 1\n",
    "            \n",
    "    return filted_record_reason"
   ]
  },
  {
   "cell_type": "code",
   "execution_count": 117,
   "id": "1c85a349",
   "metadata": {},
   "outputs": [
    {
     "data": {
      "text/plain": [
       "{'line_freq': 8, 'annotation block': 13, 'overall_tk_freq': 1}"
      ]
     },
     "execution_count": 117,
     "metadata": {},
     "output_type": "execute_result"
    }
   ],
   "source": [
    "filted_record_reason = count_record_filters_total(log_data)\n",
    "filted_record_reason[\"544851\"]"
   ]
  },
  {
   "cell_type": "markdown",
   "id": "73a37e75",
   "metadata": {},
   "source": [
    "# Calculate filters total"
   ]
  },
  {
   "cell_type": "code",
   "execution_count": 148,
   "id": "6da36683",
   "metadata": {},
   "outputs": [],
   "source": [
    "reason_total = {}\n",
    "\n",
    "for record in filted_data_record_map:\n",
    "    for reason in filted_data_record_map[record]:\n",
    "        if reason in reason_total:\n",
    "            reason_total[reason] += filted_data_record_map[record][reason]\n",
    "        else:\n",
    "            reason_total[reason] = 0"
   ]
  },
  {
   "cell_type": "code",
   "execution_count": 149,
   "id": "03230d63",
   "metadata": {},
   "outputs": [
    {
     "data": {
      "text/plain": [
       "{'line_freq': 759560,\n",
       " 'annotation block': 55272,\n",
       " 'overall_tk_freq': 153936,\n",
       " 'tk_freq': 70140,\n",
       " 'likely page number': 215421}"
      ]
     },
     "execution_count": 149,
     "metadata": {},
     "output_type": "execute_result"
    }
   ],
   "source": [
    "reason_total"
   ]
  },
  {
   "cell_type": "markdown",
   "id": "54dcd898",
   "metadata": {},
   "source": [
    "# Calculate filters line total"
   ]
  },
  {
   "cell_type": "code",
   "execution_count": 120,
   "id": "f1d78344",
   "metadata": {},
   "outputs": [],
   "source": [
    "def count_record_filters_line_total(log_data):\n",
    "    filted_record_reason_line_total = {}\n",
    "\n",
    "    for row in log_data:\n",
    "        if not row[\"record\"] in filted_record_reason:\n",
    "            filted_record_reason[row[\"record\"]] = {}\n",
    "\n",
    "        reason = row[\"reason\"].split(\",\")[0].split(\": \")[0]\n",
    "        if reason in filted_record_reason_line_total:\n",
    "            filted_record_reason_line_total[reason] += len(row[\"filtered\"].split(\"\\n\"))\n",
    "        else:\n",
    "            filted_record_reason_line_total[reason] = len(row[\"filtered\"].split(\"\\n\"))\n",
    "    \n",
    "    return filted_record_reason_line_total"
   ]
  },
  {
   "cell_type": "code",
   "execution_count": 225,
   "id": "126c4a9a",
   "metadata": {},
   "outputs": [
    {
     "data": {
      "text/html": [
       "<div>\n",
       "<style scoped>\n",
       "    .dataframe tbody tr th:only-of-type {\n",
       "        vertical-align: middle;\n",
       "    }\n",
       "\n",
       "    .dataframe tbody tr th {\n",
       "        vertical-align: top;\n",
       "    }\n",
       "\n",
       "    .dataframe thead th {\n",
       "        text-align: right;\n",
       "    }\n",
       "</style>\n",
       "<table border=\"1\" class=\"dataframe\">\n",
       "  <thead>\n",
       "    <tr style=\"text-align: right;\">\n",
       "      <th></th>\n",
       "      <th>Reason</th>\n",
       "      <th>Lines count</th>\n",
       "    </tr>\n",
       "  </thead>\n",
       "  <tbody>\n",
       "    <tr>\n",
       "      <th>0</th>\n",
       "      <td>line_freq</td>\n",
       "      <td>1817599</td>\n",
       "    </tr>\n",
       "    <tr>\n",
       "      <th>1</th>\n",
       "      <td>overall_tk_freq</td>\n",
       "      <td>372874</td>\n",
       "    </tr>\n",
       "    <tr>\n",
       "      <th>2</th>\n",
       "      <td>annotation block</td>\n",
       "      <td>899462</td>\n",
       "    </tr>\n",
       "    <tr>\n",
       "      <th>3</th>\n",
       "      <td>tk_freq</td>\n",
       "      <td>165451</td>\n",
       "    </tr>\n",
       "    <tr>\n",
       "      <th>4</th>\n",
       "      <td>likely page number</td>\n",
       "      <td>522076</td>\n",
       "    </tr>\n",
       "    <tr>\n",
       "      <th>5</th>\n",
       "      <td>total</td>\n",
       "      <td>3777462</td>\n",
       "    </tr>\n",
       "  </tbody>\n",
       "</table>\n",
       "</div>"
      ],
      "text/plain": [
       "               Reason  Lines count\n",
       "0           line_freq      1817599\n",
       "1     overall_tk_freq       372874\n",
       "2    annotation block       899462\n",
       "3             tk_freq       165451\n",
       "4  likely page number       522076\n",
       "5               total      3777462"
      ]
     },
     "execution_count": 225,
     "metadata": {},
     "output_type": "execute_result"
    }
   ],
   "source": [
    "import pandas as pd\n",
    "\n",
    "filted_record_reason_line_total = count_record_filters_line_total(log_data)\n",
    "\n",
    "filted_record_reason_line_total[\"total\"] = sum([filted_record_reason_line_total[reason] for reason in filted_record_reason_line_total])\n",
    "\n",
    "df = pd.DataFrame.from_dict(filted_record_reason_line_total, orient='index', columns=['Lines count'])\n",
    "df = df.rename_axis('Reason').reset_index()\n",
    "\n",
    "filted_record_reason_line_total.pop(\"total\", None)\n",
    "\n",
    "df"
   ]
  },
  {
   "cell_type": "markdown",
   "id": "9081d0ba",
   "metadata": {},
   "source": [
    "# Count vs. Line requency graph"
   ]
  },
  {
   "cell_type": "code",
   "execution_count": 226,
   "id": "9fd934e1",
   "metadata": {
    "scrolled": false
   },
   "outputs": [
    {
     "data": {
      "image/png": "[encoded data removed]",
      "text/plain": [
       "<Figure size 640x480 with 1 Axes>"
      ]
     },
     "metadata": {},
     "output_type": "display_data"
    }
   ],
   "source": [
    "import matplotlib.pyplot as plt\n",
    "\n",
    "labels = list(reason_total.keys())\n",
    "\n",
    "filters_total_value = list(reason_total.values())\n",
    "filters_line_total_value = list(filted_record_reason_line_total.values())\n",
    "\n",
    "fig, ax = plt.subplots()\n",
    "\n",
    "width = 0.35\n",
    "\n",
    "ax.bar(labels, filters_total_value, width, label='Filters total')\n",
    "\n",
    "ax.bar([x + width for x in range(len(labels))], filters_line_total_value, width, label='Filters line total')\n",
    "\n",
    "ax.set_ylabel('Total')\n",
    "ax.set_title(f'Count vs. Line Frequency (total {record_total_number} files)')\n",
    "\n",
    "ax.set_xticks([x + width/2 for x in range(len(labels))])\n",
    "\n",
    "\n",
    "for i, v in enumerate(filters_total_value):\n",
    "    ax.text(i, v, str(v), ha='center', va='bottom', fontweight='bold')\n",
    "\n",
    "for i, v in enumerate(filters_line_total_value):\n",
    "    ax.text(i + width, v, str(v), ha='center', va='bottom', fontweight='bold')\n",
    "\n",
    "ax.set_xticklabels(labels, rotation=30)\n",
    "ax.legend()\n",
    "plt.show()"
   ]
  },
  {
   "cell_type": "markdown",
   "id": "09a460fb",
   "metadata": {},
   "source": [
    "# Filterd line requency"
   ]
  },
  {
   "cell_type": "code",
   "execution_count": 227,
   "id": "a2c187a1",
   "metadata": {},
   "outputs": [
    {
     "name": "stderr",
     "output_type": "stream",
     "text": [
      "Found cached dataset parquet (/home/ran/.cache/huggingface/datasets/ranWang___parquet/ranWang--un_pdf_text_data_test-2dae54fa16cc1546/0.0.0/2a3b91fbd88a2c90d1dbbb32b460cf621d31bd5b05b934492fdef7d8d6f236ec)\n"
     ]
    },
    {
     "data": {
      "application/vnd.jupyter.widget-view+json": {
       "model_id": "0b303f05e0d240bb8ffb4f22740e0921",
       "version_major": 2,
       "version_minor": 0
      },
      "text/plain": [
       "  0%|          | 0/3 [00:00<?, ?it/s]"
      ]
     },
     "metadata": {},
     "output_type": "display_data"
    },
    {
     "name": "stderr",
     "output_type": "stream",
     "text": [
      "100%|█████████████████████████████████████████████████████████████████████████████████████████████████████████| 22231/22231 [00:09<00:00, 2256.26it/s]"
     ]
    },
    {
     "name": "stdout",
     "output_type": "stream",
     "text": [
      "filter line requency is 0.08042826121888653\n",
      "filter files requency is 0.3121766902073681\n"
     ]
    },
    {
     "name": "stderr",
     "output_type": "stream",
     "text": [
      "\n"
     ]
    }
   ],
   "source": [
    "import matplotlib.pyplot as plt\n",
    "import datasets\n",
    "from tqdm import tqdm \n",
    "\n",
    "\n",
    "# 需要加载dataset是因为需要统计所有文件所过滤的比例\n",
    "datadict = datasets.load_dataset(\"ranWang/un_pdf_text_data_test\")\n",
    "dataset = datasets.concatenate_datasets([datadict[\"new_randomTest10000\"],datadict[\"randomTest\"],datadict[\"randomTest10000\"]])\n",
    "\n",
    "record_set = set([row[\"record\"] for row in log_data])\n",
    "\n",
    "lang_list = [\"zh\",\"es\",\"fr\",\"es\",\"en\"]\n",
    "deleted_file_total = len(dataset)\n",
    "full_file_total_line = 0\n",
    "\n",
    "for row in tqdm(dataset):\n",
    "    if row[\"record\"] in record_set:\n",
    "        deleted_file_total -= 1\n",
    "        \n",
    "        for lang in row :\n",
    "            if lang in lang_list:\n",
    "                full_file_total_line += len(row[lang].splitlines())\n",
    "\n",
    "\n",
    "print(f\"filter line requency is {sum([filted_record_reason_line_total[reason] for reason in filted_record_reason_line_total]) / full_file_total_line}\")\n",
    "print(f\"filter files requency is {deleted_file_total / len(dataset)}\")"
   ]
  },
  {
   "cell_type": "code",
   "execution_count": null,
   "id": "fe480f52",
   "metadata": {},
   "outputs": [],
   "source": []
  }
 ],
 "metadata": {
  "kernelspec": {
   "display_name": "Python 3 (ipykernel)",
   "language": "python",
   "name": "python3"
  },
  "language_info": {
   "codemirror_mode": {
    "name": "ipython",
    "version": 3
   },
   "file_extension": ".py",
   "mimetype": "text/x-python",
   "name": "python",
   "nbconvert_exporter": "python",
   "pygments_lexer": "ipython3",
   "version": "3.10.6"
  }
 },
 "nbformat": 4,
 "nbformat_minor": 5
}
