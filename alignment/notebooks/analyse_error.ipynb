{
 "cells": [
  {
   "cell_type": "code",
   "execution_count": 21,
   "id": "abf34d74",
   "metadata": {},
   "outputs": [],
   "source": [
    "import json\n",
    "from pathlib import Path"
   ]
  },
  {
   "cell_type": "markdown",
   "id": "4eb04bb5",
   "metadata": {},
   "source": [
    "# read record data"
   ]
  },
  {
   "cell_type": "code",
   "execution_count": 4,
   "id": "dc22f6f6",
   "metadata": {},
   "outputs": [
    {
     "data": {
      "text/plain": [
       "dict_keys(['raw_text', 'ground_truth', 'predicted', 'record_id'])"
      ]
     },
     "execution_count": 4,
     "metadata": {},
     "output_type": "execute_result"
    }
   ],
   "source": [
    "record_id = \"500849\"\n",
    "path = f\"../tmp/{record_id}.json\"\n",
    "\n",
    "with open(path, \"r\") as f:\n",
    "    data = json.load(f)\n",
    "\n",
    "data.keys()"
   ]
  },
  {
   "cell_type": "code",
   "execution_count": 9,
   "id": "150a845f",
   "metadata": {},
   "outputs": [],
   "source": [
    "def make_color_list(ground_truth, predicted):\n",
    "    color_list = []\n",
    "    for ref, pred in zip(ground_truth, predicted):\n",
    "        if ref:\n",
    "            if pred:\n",
    "                color = \"green\"\n",
    "            else:\n",
    "                color = \"red\"\n",
    "        else:\n",
    "            if pred:\n",
    "                color = \"blue\"\n",
    "            else:\n",
    "                color = None\n",
    "        color_list.append(color)\n",
    "    return color_list"
   ]
  },
  {
   "cell_type": "code",
   "execution_count": 16,
   "id": "fd11bf5d",
   "metadata": {},
   "outputs": [],
   "source": [
    "from IPython.display import display, HTML\n",
    "\n",
    "def display_lines_with_color(lines, color_list):\n",
    "    formatted_lines = []\n",
    "    for i, line in enumerate(lines):\n",
    "        words = line.split()\n",
    "        last_word = words[-1]\n",
    "        color = color_list[i]\n",
    "        if color:\n",
    "            last_word = f'<span style=\"color:{color};\">{last_word}</span>'\n",
    "        formatted_line = ' '.join(words[:-1] + [last_word])\n",
    "        formatted_lines.append(formatted_line)\n",
    "    display(HTML('<br>'.join(formatted_lines)))\n",
    "\n",
    "# Example usage\n",
    "lines = data['raw_text'].split('\\n')\n",
    "color_list = make_color_list(data[\"ground_truth\"], data[\"predicted\"])\n",
    "color_list.append(None)"
   ]
  },
  {
   "cell_type": "code",
   "execution_count": 17,
   "id": "c93a4c1c",
   "metadata": {
    "scrolled": false
   },
   "outputs": [
    {
     "data": {
      "text/html": [
       "United Nations <span style=\"color:green;\">S/2003/40/Add.28</span><br>Security Council Distr.: <span style=\"color:green;\">General</span><br>25 July <span style=\"color:green;\">2003</span><br>Original: <span style=\"color:green;\">English</span><br>03-46105 (E) <span style=\"color:green;\">120803</span><br><span style=\"color:green;\">*0346105*</span><br>Summary statement by the Secretary-General on matters of<br>which the Security Council is seized and on the stage reached<br>in their <span style=\"color:green;\">consideration</span><br><span style=\"color:green;\">Addendum</span><br>Pursuant to rule 11 of the provisional rules of procedure of the Security<br>Council, the Secretary-General is submitting the following summary <span style=\"color:blue;\">statement.</span><br>The list of items of which the Security Council is seized is contained in<br>documents S/2003/40 of 14 February 2003, S/2003/40/Add.3 of 21 February 2003,<br>S/2003/40/Add.4 of 24 February 2003, S/2003/40/Add.11 of 28 March 2003,<br>S/2003/40/Add.14 of 17 April 2003, S/2003/40/Add.19 of 23 May 2003,<br>S/2003/40/Add.20 of 30 May 2003 and S/2003/40/Add.24 of 27 June <span style=\"color:green;\">2003.</span><br>During the week ending 19 July 2003, the Security Council took action on the<br>following <span style=\"color:green;\">items:</span><br>The situation between Eritrea and Ethiopia (see S/1998/44/Add.25;<br>S/1999/25/Add.3, 5 and 7; S/2000/40/Add.18, 19, 30, 32, 36, 45 and 46;<br>S/2001/15/Add.6, 11, 16, 20, 37 and 46; S/2002/30/Add.2, 9, 10, 19, 32 and 35; and<br>S/2003/40/Add.10; see also S/2001/15/Add.37; S/2002/30/Add.10 and 32; and<br><span style=\"color:green;\">S/2003/40/Add.10)</span><br>The Security Council resumed its consideration of the item at its 4787th<br>meeting, held on 17 July 2003 in accordance with the understanding reached in its<br>prior consultations, having before it the progress report of the Secretary-General on<br>Ethiopia and Eritrea <span style=\"color:green;\">(S/2003/665).</span><br>The President stated that, following consultations of the Council, he had been<br>authorized to make a statement on behalf of the Council and read out the text of that<br>statement (for the text, see S/PRST/2003/10; to be issued in Official Records of the<br>Security Council, Resolutions and Decisions of the Security Council, 1 August 2002-<br>31 July <span style=\"color:green;\">2003).</span><br>The situation in the Middle East, including the Palestinian question (see<br>S/2000/40/Add.39, 44, 46, 47 and 50; S/2001/15/Add.11-13, 34 and 50;<br>S/2002/30/Add.7, 8, 10, 12-15, 17, 23, 24, 28, 29, 37, 38, 45 and 50; and<br>S/2003/40/Add.2, 6, 11, 15, 20 and 23; see also S/7382, S/7441, S/7452, S/7564,<br>S/7570, S/7596, S/7600, S/7913, S/7923, S/7976, S/8000, S/8048, S/8066, S/8215,<br>S/8242, S/8252, S/8269, S/8502, S/8525, S/8534, S/8564, S/8575, S/8584, S/8595,<br>S/8747, S/8753, S/8807, S/8815, S/8828, S/8836, S/8885, S/8896, S/8960, S/9123,<br>S/9135, S/9319, S/9382, S/9395, S/9406, S/9427 and Corr.1, S/9449, S/9452, S/9805,<br>S/9812, S/9930, S/10327, S/10341, S/10554, S/10557, S/10703, S/10721, S/10729,<br>S/10743, S/10770/Add.4, S/10855/Add.15, 16, 23, 24, 29, 30, 33, 41, 43, 44 and 50;<br>S/11185/Add.14-16, 21, 42/Rev.1 and 47; S/11593/Add.15, 21, 29, 42 and 49;<br>S/11935/Add.2-4, 12, 18-21, 23-26, 42, 44, 45 and 48; S/12269/Add.12, 13, 21, 42, 43<br>and 48; S/12520/Add.10, 11, 17, 21, 37, 39, 42, 47 and 48; S/13033/Add.2, 9-11, 16,<br>19, 21, 23, 25, 28, 29, 33, 34, 47 and 50; S/13737/Add.7, 8, 13-18, 20-22, 24-26, 33,<br>47 and 50; S/14326/Add.10, 11, 20, 24, 28, 29, 47 and 50; S/14840/Add.1-4, 8, 12, 13,<br>15, 16, 21-25, 27, 30-33, 37, 42, 45 and 48; S/15560/Add.3, 6, 7, 20, 21, 29-31, 37,<br>42, 45, 47 and 48; S/16270/Add.6-8, 15, 20, 21, 34, 35, 40 and 47; S/16880/Add.8-10,<br>15, 20, 21, 36, 40, 41 and 46; S/17725/Add.2-4, 15, 21, 28, 35, 38, 43 and 47-49;<br>S/18570/Add.2, 21, 30, 47 and 49-51; S/19420/Add.1-5, 13, 15, 18, 19, 22 and Corr.1,<br>30, 48 and 50; S/20370/Add.4-6, 12, 16, 21, 22, 26, 30, 32, 34, 37, 44, 46, 47 and 51;<br>S/21100/Add.4, 10, 12, 17, 20, 21, 30, 39, 40, 42, 44, 45 and 47-50; S/22110/Add.4,<br>12, 20, 21, 30 and 47; S/23370/Add.1, 4, 7, 13, 21, 30, 47 and 50; S/25070/Add.4, 21,<br>30 and 48; S/1994/20/Add.3, 8, 10, 20, 29 and 47; S/1995/40/Add.4, 8, 18, 19, 21, 29<br>and 47; S/1996/15/Add.4, 15, 21, 30, 38 and 47; S/1997/40/Add.4, 9, 11, 21, 30 and<br>46; S/1998/44/Add.4, 21, 26, 28, 30 and 47; S/1999/25/Add.3, 20, 29 and 46;<br>S/2000/40/Add.4,15, 20, 21, 24, 29 and 47; S/2001/15/Add.5, 22, 31 and 48;<br>S/2002/30/Add.4, 21, 30 and 50; and S/2003/40/Add.4 and <span style=\"color:red;\">25)</span><br>The Security Council resumed its consideration of the item at its 4788th<br>meeting, held on 17 July 2003 in accordance with the understanding reached in its<br>prior <span style=\"color:red;\">consultations.</span><br>In accordance with the understanding reached in the Council’s prior<br>consultations, the President, with the consent of the Council, extended an invitation<br>under rule 39 of the Council’s provisional rules of procedure to Terje Roed-Larsen,<br>Special Coordinator for the Middle East Peace Process and Personal Representative<br>of the <span style=\"color:red;\">Secretary-General.</span><br>The situation in Sierra Leone (see S/1995/40/Add.47; S/1996/15/Add.6, 11 and 48;<br>S/1997/40/Add.21, 27, 31, 40 and 45; S/1998/44/Add.8, 11, 15, 20, 22, 28 and 50;<br>S/1999/25 and Add.1, 9, 18, 22, 32, 41 and 48; S/2000/40/Add.5, 10, 17-19, 24, 26,<br>28, 30, 32, 35, 37, 43 and 50; S/2001/15/Add.4, 13, 26, 38 and 51; S/2002/30/Add.2,<br>12, 20, 27, 38 and 48; and S/2003/40/Add.12; see also S/2001/15/Add.7, 10, 20 and<br>37; S/2002/30/Add.11 and 37; and <span style=\"color:red;\">S/2003/40/Add.11)</span><br>The Security Council resumed its consideration of the item at its 4789th<br>meeting, held on 18 July 2003 in accordance with the understanding reached in its<br>prior consultations, having before it the eighteenth report of the Secretary-General<br>on the United Nations Mission in Sierra Leone <span style=\"color:red;\">(S/2003/663).</span><br>The President drew attention to a draft resolution (S/2003/713) that had been<br>prepared in the course of the Council’s prior <span style=\"color:red;\">consultations.</span><br>The Security Council proceeded to vote on draft resolution S/2003/713, and<br>adopted it unanimously as resolution 1492 (2003) (for the text, see S/RES/1492<br>(2003); to be issued in Official Records of the Security Council, Resolutions and<br>Decisions of the Security Council, 1 August 2002-31 July <span style=\"color:red;\">2003).</span><br>The situation concerning the Democratic Republic of the Congo (see<br>S/1997/40/Add.21; S/1998/44/Add.35 and 49; S/1999/25/Add.10, 13, 24, 30, 43, 47<br>and 49; S/2000/40/Add.3, 7, 16, 17, 19, 21, 23, 30, 33, 40, 47 and 49;<br>S/2001/15/Add.5, 8, 18, 24, 30, 35, 36, 43, 45, 50 and 51; S/2002/30/Add.4, 8, 11, 20,<br>22, 23, 29, 31, 32, 36, 41, 42, 44 and 48; and S/2003/40/Add.3, 6, 11, 19, 21, 25 and<br>27; see also S/1996/15/Add.43-45; S/1997/40/Add.5, 7, 9, 13, 16 and 17;<br>S/1998/44/Add.28; S/2001/15/Add.42 and 43; S/2002/30/Add.9, 23 and 37; and<br><span style=\"color:red;\">S/2003/40/Add.22)</span><br>The Security Council resumed its consideration of the item at its 4790th<br>meeting, held on 18 July 2003 in accordance with the understanding reached in its<br>prior <span style=\"color:red;\">consultations.</span><br>The President, with the consent of the Council, invited the representatives of<br>Bangladesh, Brazil, the Democratic Republic of the Congo, Egypt, Indonesia, Italy,<br>Japan, Nepal, the Philippines, Rwanda and South Africa, at their request, to<br>participate in the discussion without the right to <span style=\"color:green;\">vote.</span><br>In accordance with the understanding reached in the Council’s prior<br>consultations, the President, with the consent of the Council, extended invitations<br>under rule 39 of the Council’s provisional rules of procedure to Jean-Marie<br>Guéhenno, Under-Secretary-General for Peacekeeping Operations, and Amos<br>Namanga Ngongi, former Special Representative of the Secretary-General for the<br>Democratic Republic of the <span style=\"color:green;\">Congo.</span><br>In response to the request contained in a letter dated 14 July 2003 from the<br>Permanent Representative of Italy to the United Nations (S/2003/709), the President,<br>with the consent of the Council, extended an invitation under rule 39 of the<br>Council’s provisional rules of procedure to Javier Solana, Secretary-General and<br>High Representative for the Common Foreign and Security Policy of the European<br>Union."
      ],
      "text/plain": [
       "<IPython.core.display.HTML object>"
      ]
     },
     "metadata": {},
     "output_type": "display_data"
    }
   ],
   "source": [
    "display_lines_with_color(lines, color_list)"
   ]
  },
  {
   "cell_type": "code",
   "execution_count": 32,
   "id": "c2926f90",
   "metadata": {},
   "outputs": [
    {
     "name": "stdout",
     "output_type": "stream",
     "text": [
      "United Nations S/2003/40/Add.28\n",
      "Security Council Distr.: General\n",
      "25 July 2003\n",
      "Original: English\n",
      "03-46105 (E) 120803\n",
      "*0346105*\n",
      "Summary statement by the Secretary-General on matters of which the Security Council is seized and on the stage reached in their consideration\n",
      "Addendum\n",
      "Pursuant to rule 11 of the provisional rules of procedure of the Security Council, the Secretary-General is submitting the following summary statement.\n",
      "The list of items of which the Security Council is seized is contained in documents S/2003/40 of 14 February 2003, S/2003/40/Add.3 of 21 February 2003, S/2003/40/Add.4 of 24 February 2003, S/2003/40/Add.11 of 28 March 2003, S/2003/40/Add.14 of 17 April 2003, S/2003/40/Add.19 of 23 May 2003, S/2003/40/Add.20 of 30 May 2003 and S/2003/40/Add.24 of 27 June 2003.\n",
      "During the week ending 19 July 2003, the Security Council took action on the following items:\n",
      "The situation between Eritrea and Ethiopia (see S/1998/44/Add.25; S/1999/25/Add.3, 5 and 7; S/2000/40/Add.18, 19, 30, 32, 36, 45 and 46; S/2001/15/Add.6, 11, 16, 20, 37 and 46; S/2002/30/Add.2, 9, 10, 19, 32 and 35; and S/2003/40/Add.10; see also S/2001/15/Add.37; S/2002/30/Add.10 and 32; and S/2003/40/Add.10)\n",
      "The Security Council resumed its consideration of the item at its 4787th meeting, held on 17 July 2003 in accordance with the understanding reached in its prior consultations, having before it the progress report of the Secretary-General on Ethiopia and Eritrea (S/2003/665).\n",
      "The President stated that, following consultations of the Council, he had been authorized to make a statement on behalf of the Council and read out the text of that statement (for the text, see S/PRST/2003/10; to be issued in Official Records of the Security Council, Resolutions and Decisions of the Security Council, 1 August 2002-31 July 2003).\n",
      "The situation in the Middle East, including the Palestinian question (see S/2000/40/Add.39, 44, 46, 47 and 50; S/2001/15/Add.11-13, 34 and 50; S/2002/30/Add.7, 8, 10, 12-15, 17, 23, 24, 28, 29, 37, 38, 45 and 50; and S/2003/40/Add.2, 6, 11, 15, 20 and 23; see also S/7382, S/7441, S/7452, S/7564, S/7570, S/7596, S/7600, S/7913, S/7923, S/7976, S/8000, S/8048, S/8066, S/8215, S/8242, S/8252, S/8269, S/8502, S/8525, S/8534, S/8564, S/8575, S/8584, S/8595, S/8747, S/8753, S/8807, S/8815, S/8828, S/8836, S/8885, S/8896, S/8960, S/9123, S/9135, S/9319, S/9382, S/9395, S/9406, S/9427 and Corr.1, S/9449, S/9452, S/9805, S/9812, S/9930, S/10327, S/10341, S/10554, S/10557, S/10703, S/10721, S/10729, S/10743, S/10770/Add.4, S/10855/Add.15, 16, 23, 24, 29, 30, 33, 41, 43, 44 and 50; S/11185/Add.14-16, 21, 42/Rev.1 and 47; S/11593/Add.15, 21, 29, 42 and 49; S/11935/Add.2-4, 12, 18-21, 23-26, 42, 44, 45 and 48; S/\n",
      "=========================================\n",
      "Japan, Nepal, the Philippines, Rwanda and South Africa, at their request, to participate in the discussion without the right to vote.\n",
      "In accordance with the understanding reached in the Council’s prior consultations, the President, with the consent of the Council, extended invitations under rule 39 of the Council’s provisional rules of procedure to Jean-Marie Guéhenno, Under-Secretary-General for Peacekeeping Operations, and Amos Namanga Ngongi, former Special Representative of the Secretary-General for the Democratic Republic of the Congo.\n",
      "In response to the request contained in a letter dated 14 July 2003 from the Permanent Representative of Italy to the United Nations (S/2003/709), the President, with the consent of the Council, extended an invitation under rule 39 of the Council’s provisional rules of procedure to Javier Solana, Secretary-General and High Representative for the Common Foreign and Security Policy of the European Union.\n",
      "=========================================\n"
     ]
    }
   ],
   "source": [
    "cache_dir = Path(\"../cache_dir/\")\n",
    "batch_indice = []\n",
    "for batch_path in cache_dir.glob(f\"record_{record_id}_processed_batch*\"):\n",
    "    batch_indice.append(int(batch_path.stem.split(\"_\")[-1]))\n",
    "    \n",
    "max_index = max(batch_indice)\n",
    "for batch_index in range(max_index+1):\n",
    "    with open(cache_dir / f'record_{record_id}_processed_batch_{batch_index}.json', 'r') as f:\n",
    "        gpt_batch_data = json.load(f)\n",
    "    gpt_batch_data = gpt_batch_data.replace(\"\\n\\n\", \"\\n\")\n",
    "    print(gpt_batch_data)\n",
    "    print(\"=========================================\")"
   ]
  },
  {
   "cell_type": "code",
   "execution_count": null,
   "id": "4b5a78ba",
   "metadata": {},
   "outputs": [],
   "source": []
  },
  {
   "cell_type": "code",
   "execution_count": null,
   "id": "71ff81f3",
   "metadata": {},
   "outputs": [],
   "source": []
  }
 ],
 "metadata": {
  "kernelspec": {
   "display_name": "Python 3 (ipykernel)",
   "language": "python",
   "name": "python3"
  },
  "language_info": {
   "codemirror_mode": {
    "name": "ipython",
    "version": 3
   },
   "file_extension": ".py",
   "mimetype": "text/x-python",
   "name": "python",
   "nbconvert_exporter": "python",
   "pygments_lexer": "ipython3",
   "version": "3.10.6"
  }
 },
 "nbformat": 4,
 "nbformat_minor": 5
}
