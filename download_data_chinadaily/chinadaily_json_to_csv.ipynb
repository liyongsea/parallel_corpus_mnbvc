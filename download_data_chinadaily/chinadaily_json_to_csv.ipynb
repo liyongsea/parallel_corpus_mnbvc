{
 "cells": [
  {
   "cell_type": "code",
   "execution_count": 1,
   "id": "a6edf5c8-e3e5-4080-b653-360763b2d81b",
   "metadata": {},
   "outputs": [],
   "source": [
    "import os\n",
    "import json\n",
    "import csv\n",
    "import tqdm"
   ]
  },
  {
   "cell_type": "code",
   "execution_count": 2,
   "id": "6f11bca6-4289-4cb0-9e1f-7b46623bf1d6",
   "metadata": {},
   "outputs": [],
   "source": [
    "data_path = './china_daily_data'\n",
    "data_file_list = os.listdir(data_path)"
   ]
  },
  {
   "cell_type": "code",
   "execution_count": 3,
   "id": "8781b61c-ac37-4716-8be7-481dbe0feadb",
   "metadata": {},
   "outputs": [],
   "source": [
    "data_full = {} \n",
    "for file in data_file_list:\n",
    "    with open(os.path.join(data_path, file), 'r', encoding='utf-8') as fo:\n",
    "        data_full.update(json.load(fo))"
   ]
  },
  {
   "cell_type": "code",
   "execution_count": 4,
   "id": "76957667-c4d2-4bfe-bcdb-e4c4d0a7fa48",
   "metadata": {},
   "outputs": [
    {
     "name": "stderr",
     "output_type": "stream",
     "text": [
      "合并进度: 100%|██████████████████████████████████████████████████████████████████████████████████████████████████████████████████████████████████████████████████████████████████████████████████| 3424/3424 [00:00<00:00, 5118.55it/s]\n"
     ]
    }
   ],
   "source": [
    "headers = ['row', 'en', 'zh']\n",
    "with open('./data.csv', 'w', encoding='utf-8') as f:\n",
    "    csv_o = csv.writer(f)\n",
    "    csv_o.writerow(headers)\n",
    "    for item in tqdm.tqdm(data_full.values(), desc='合并进度', total=len(data_full)):\n",
    "        # print(item)\n",
    "        csv_o.writerow([item['row'], item['en'], item['zh']])"
   ]
  }
 ],
 "metadata": {
  "kernelspec": {
   "display_name": "Python 3 (ipykernel)",
   "language": "python",
   "name": "python3"
  },
  "language_info": {
   "codemirror_mode": {
    "name": "ipython",
    "version": 3
   },
   "file_extension": ".py",
   "mimetype": "text/x-python",
   "name": "python",
   "nbconvert_exporter": "python",
   "pygments_lexer": "ipython3",
   "version": "3.8.10"
  }
 },
 "nbformat": 4,
 "nbformat_minor": 5
}