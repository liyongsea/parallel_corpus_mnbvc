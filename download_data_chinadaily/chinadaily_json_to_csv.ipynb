{
 "cells": [
  {
   "cell_type": "code",
   "execution_count": 1,
   "id": "a6edf5c8-e3e5-4080-b653-360763b2d81b",
   "metadata": {},
   "outputs": [],
   "source": [
    "import os\n",
    "import json\n",
    "import csv"
   ]
  },
  {
   "cell_type": "code",
   "execution_count": 2,
   "id": "6f11bca6-4289-4cb0-9e1f-7b46623bf1d6",
   "metadata": {},
   "outputs": [
    {
     "ename": "FileNotFoundError",
     "evalue": "[WinError 3] 系统找不到指定的路径。: './china_daily_data'",
     "output_type": "error",
     "traceback": [
      "\u001B[1;31m---------------------------------------------------------------------------\u001B[0m",
      "\u001B[1;31mFileNotFoundError\u001B[0m                         Traceback (most recent call last)",
      "Cell \u001B[1;32mIn[2], line 2\u001B[0m\n\u001B[0;32m      1\u001B[0m data_path \u001B[38;5;241m=\u001B[39m \u001B[38;5;124m'\u001B[39m\u001B[38;5;124m./china_daily_data\u001B[39m\u001B[38;5;124m'\u001B[39m\n\u001B[1;32m----> 2\u001B[0m data_file_list \u001B[38;5;241m=\u001B[39m \u001B[43mos\u001B[49m\u001B[38;5;241;43m.\u001B[39;49m\u001B[43mlistdir\u001B[49m\u001B[43m(\u001B[49m\u001B[43mdata_path\u001B[49m\u001B[43m)\u001B[49m\n",
      "\u001B[1;31mFileNotFoundError\u001B[0m: [WinError 3] 系统找不到指定的路径。: './china_daily_data'"
     ]
    }
   ],
   "source": [
    "data_path = './china_daily_data'\n",
    "data_file_list = os.listdir(data_path)"
   ]
  },
  {
   "cell_type": "code",
   "execution_count": null,
   "id": "8781b61c-ac37-4716-8be7-481dbe0feadb",
   "metadata": {},
   "outputs": [],
   "source": [
    "data_full = {} \n",
    "for file in data_file_list:\n",
    "    with open(os.path.join(data_path, file), 'r', encoding='utf-8') as fo:\n",
    "        data_full.update(json.load(fo))"
   ]
  },
  {
   "cell_type": "code",
   "execution_count": null,
   "id": "76957667-c4d2-4bfe-bcdb-e4c4d0a7fa48",
   "metadata": {},
   "outputs": [],
   "source": [
    "headers = ['title', 'english', 'chinese']\n",
    "with open('./data.csv', 'w', encoding='utf-8') as f:\n",
    "    csv_o = csv.writer(f)\n",
    "    csv_o.writerow(headers)\n",
    "    for key,item in data_full.items():\n",
    "        en = item['en']\n",
    "        cn = item['cn']\n",
    "        csv_o.writerow([key, en, cn])"
   ]
  },
  {
   "cell_type": "code",
   "execution_count": null,
   "id": "0e3e06e0",
   "metadata": {
    "collapsed": false,
    "jupyter": {
     "outputs_hidden": false
    },
    "pycharm": {
     "name": "#%%\n"
    }
   },
   "outputs": [],
   "source": []
  }
 ],
 "metadata": {
  "kernelspec": {
   "display_name": "Python 3 (ipykernel)",
   "language": "python",
   "name": "python3"
  },
  "language_info": {
   "codemirror_mode": {
    "name": "ipython",
    "version": 3
   },
   "file_extension": ".py",
   "mimetype": "text/x-python",
   "name": "python",
   "nbconvert_exporter": "python",
   "pygments_lexer": "ipython3",
   "version": "3.8.10"
  }
 },
 "nbformat": 4,
 "nbformat_minor": 5
}