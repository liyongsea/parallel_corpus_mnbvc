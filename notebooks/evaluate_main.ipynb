{
 "cells": [
  {
   "cell_type": "code",
   "execution_count": 1,
   "id": "b01c05bf",
   "metadata": {},
   "outputs": [],
   "source": [
    "import sys\n",
    "import os\n",
    "sys.path.append('../')"
   ]
  },
  {
   "cell_type": "code",
   "execution_count": 2,
   "id": "4f64b765",
   "metadata": {},
   "outputs": [],
   "source": [
    "from alignment.bert_detector import BertLineBreakDetector, HfClassifier"
   ]
  },
  {
   "cell_type": "code",
   "execution_count": 3,
   "id": "346ab8cd",
   "metadata": {
    "scrolled": false
   },
   "outputs": [],
   "source": [
    "# Create the detector from files\n",
    "detector = BertLineBreakDetector.from_file('BertDetector', 'model.pt', 'bert-base-cased')\n",
    "\n",
    "# Raw text\n",
    "raw_text = \"\"\"\n",
    "– To strengthen or develop norms at the global, regional and national levels that\n",
    "would reinforce and further coordinate efforts to prevent and combat the illicit\n",
    "trade in small arms and light weapons in all its aspects;\n",
    "– To develop agreed international measures to prevent and combat illicit arms\n",
    "trafficking in and manufacturing of small arms and light weapons and to\n",
    "reduce excessive and destabilizing accumulations and transfers of such\n",
    "weapons throughout the world;\n",
    "\"\"\"\n"
   ]
  },
  {
   "cell_type": "code",
   "execution_count": 4,
   "id": "1cd57771",
   "metadata": {},
   "outputs": [],
   "source": [
    "# from transformers import AutoModelForSequenceClassification\n",
    "# from transformers import DistilBertTokenizer\n",
    "# tokenizer = DistilBertTokenizer.from_pretrained('distilbert-base-cased')\n",
    "# model = AutoModelForSequenceClassification.from_pretrained(\"liyongsea/bert_segmenter\")\n",
    "# detector = BertLineBreakDetector('BertDetector', HfClassifier(model), tokenizer)"
   ]
  },
  {
   "cell_type": "code",
   "execution_count": 5,
   "id": "65574b21",
   "metadata": {},
   "outputs": [],
   "source": [
    "raw_text = \"\"\"“36. The Commission also deplores violations of the right to life of children.\n",
    "It is concerned that abandonment, child labour, sexual exploitation and abuse, physical\n",
    "ill-treatment and familial violence continue to occur, and calls for a specific policy for\n",
    "children to be developed to address these issues.\n",
    "“37. The Commission stresses the need to further address poverty, exclusion,\n",
    "social injustice and the gap in wealth distribution. The Commission supports the efforts\n",
    "of the Government of Colombia to address extreme poverty, illiteracy and unemployment\n",
    "and to guarantee access to health, education and housing and encourages the Government\n",
    "to adopt a gender perspective in the formation of policies in these areas. The\n",
    "Commission is encouraged by the reduction of the unemployment rate.\n",
    "“38. The Commission further calls upon the Government of Colombia to make\n",
    "full use of the advisory services and technical expertise of the office in Colombia of the\n",
    "High Commissioner for Human Rights with a view to ensuring that norms and measures\n",
    "adopted by Colombian institutions are consistent with international human rights law.\n",
    "The Commission also calls upon the Government of Colombia to ensure that the\n",
    "recommendations of the High Commissioner for Human Rights are implemented swiftly,\n",
    "and reiterates the need for the adoption in the first half of 2005 of a timetable for\n",
    "implementation of the recommendations. The Commission welcomes the commitment of\n",
    "Government of Colombia to work in a constructive spirit with the office of the\n",
    "High Commissioner for Human Rights in Colombia to examine the implementation and\n",
    "evaluation of the recommendations.\"\"\""
   ]
  },
  {
   "cell_type": "code",
   "execution_count": 6,
   "id": "e20442aa",
   "metadata": {},
   "outputs": [
    {
     "name": "stdout",
     "output_type": "stream",
     "text": [
      "['“36. The Commission also deplores violations of the right to life of children.', 'It is concerned that abandonment, child labour, sexual exploitation and abuse, physical', 'ill-treatment and familial violence continue to occur, and calls for a specific policy for', 'children to be developed to address these issues.', '“37. The Commission stresses the need to further address poverty, exclusion,', 'social injustice and the gap in wealth distribution. The Commission supports the efforts', 'of the Government of Colombia to address extreme poverty, illiteracy and unemployment', 'and to guarantee access to health, education and housing and encourages the Government', 'to adopt a gender perspective in the formation of policies in these areas. The', 'Commission is encouraged by the reduction of the unemployment rate.', '“38. The Commission further calls upon the Government of Colombia to make', 'full use of the advisory services and technical expertise of the office in Colombia of the', 'High Commissioner for Human Rights with a view to ensuring that norms and measures', 'adopted by Colombian institutions are consistent with international human rights law.', 'The Commission also calls upon the Government of Colombia to ensure that the', 'recommendations of the High Commissioner for Human Rights are implemented swiftly,', 'and reiterates the need for the adoption in the first half of 2005 of a timetable for', 'implementation of the recommendations. The Commission welcomes the commitment of', 'Government of Colombia to work in a constructive spirit with the office of the', 'High Commissioner for Human Rights in Colombia to examine the implementation and', 'evaluation of the recommendations.']\n",
      "[False, False, False, True, False, False, False, False, False, True, False, False, False, False, False, False, False, False, False, False]\n",
      "“36. The Commission also deplores violations of the right to life of children. False\n",
      "It is concerned that abandonment, child labour, sexual exploitation and abuse, physical False\n",
      "ill-treatment and familial violence continue to occur, and calls for a specific policy for False\n",
      "children to be developed to address these issues. True\n",
      "“37. The Commission stresses the need to further address poverty, exclusion, False\n",
      "social injustice and the gap in wealth distribution. The Commission supports the efforts False\n",
      "of the Government of Colombia to address extreme poverty, illiteracy and unemployment False\n",
      "and to guarantee access to health, education and housing and encourages the Government False\n",
      "to adopt a gender perspective in the formation of policies in these areas. The False\n",
      "Commission is encouraged by the reduction of the unemployment rate. True\n",
      "“38. The Commission further calls upon the Government of Colombia to make False\n",
      "full use of the advisory services and technical expertise of the office in Colombia of the False\n",
      "High Commissioner for Human Rights with a view to ensuring that norms and measures False\n",
      "adopted by Colombian institutions are consistent with international human rights law. False\n",
      "The Commission also calls upon the Government of Colombia to ensure that the False\n",
      "recommendations of the High Commissioner for Human Rights are implemented swiftly, False\n",
      "and reiterates the need for the adoption in the first half of 2005 of a timetable for False\n",
      "implementation of the recommendations. The Commission welcomes the commitment of False\n",
      "Government of Colombia to work in a constructive spirit with the office of the False\n",
      "High Commissioner for Human Rights in Colombia to examine the implementation and False\n"
     ]
    }
   ],
   "source": [
    "# Use raw_text as before\n",
    "lines = [line for line in raw_text.split('\\n') if line.strip() != '']\n",
    "print(lines)\n",
    "# Detect\n",
    "predictions = detector.detect(lines)\n",
    "\n",
    "# Print the predictions\n",
    "print(predictions)\n",
    "for a, b in zip(predictions, lines):\n",
    "    print(b, a)"
   ]
  },
  {
   "cell_type": "code",
   "execution_count": 8,
   "id": "723f47d6",
   "metadata": {},
   "outputs": [],
   "source": [
    "from alignment import evaluate_segmentation as eval_seg"
   ]
  },
  {
   "cell_type": "code",
   "execution_count": 9,
   "id": "97fa0189",
   "metadata": {},
   "outputs": [],
   "source": [
    "import wandb"
   ]
  },
  {
   "cell_type": "code",
   "execution_count": null,
   "id": "2510402c",
   "metadata": {
    "scrolled": false
   },
   "outputs": [
    {
     "data": {
      "text/html": [
       "Finishing last run (ID:22etlz0q) before initializing another..."
      ],
      "text/plain": [
       "<IPython.core.display.HTML object>"
      ]
     },
     "metadata": {},
     "output_type": "display_data"
    },
    {
     "data": {
      "text/html": [
       "Waiting for W&B process to finish... <strong style=\"color:green\">(success).</strong>"
      ],
      "text/plain": [
       "<IPython.core.display.HTML object>"
      ]
     },
     "metadata": {},
     "output_type": "display_data"
    },
    {
     "data": {
      "application/vnd.jupyter.widget-view+json": {
       "model_id": "c37ebbb0eaf242359756e743be5ce501",
       "version_major": 2,
       "version_minor": 0
      },
      "text/plain": [
       "VBox(children=(Label(value='0.003 MB of 0.003 MB uploaded (0.000 MB deduped)\\r'), FloatProgress(value=1.0, max…"
      ]
     },
     "metadata": {},
     "output_type": "display_data"
    },
    {
     "data": {
      "text/html": [
       " View run <strong style=\"color:#cdcd00\">fresh-planet-45</strong> at: <a href='https://wandb.ai/mnbvc/text_segmentation/runs/22etlz0q' target=\"_blank\">https://wandb.ai/mnbvc/text_segmentation/runs/22etlz0q</a><br/>Synced 5 W&B file(s), 0 media file(s), 0 artifact file(s) and 0 other file(s)"
      ],
      "text/plain": [
       "<IPython.core.display.HTML object>"
      ]
     },
     "metadata": {},
     "output_type": "display_data"
    },
    {
     "data": {
      "text/html": [
       "Find logs at: <code>./wandb/run-20230727_014022-22etlz0q/logs</code>"
      ],
      "text/plain": [
       "<IPython.core.display.HTML object>"
      ]
     },
     "metadata": {},
     "output_type": "display_data"
    },
    {
     "data": {
      "text/html": [
       "Successfully finished last run (ID:22etlz0q). Initializing new run:<br/>"
      ],
      "text/plain": [
       "<IPython.core.display.HTML object>"
      ]
     },
     "metadata": {},
     "output_type": "display_data"
    },
    {
     "data": {
      "text/html": [
       "wandb version 0.15.7 is available!  To upgrade, please run:\n",
       " $ pip install wandb --upgrade"
      ],
      "text/plain": [
       "<IPython.core.display.HTML object>"
      ]
     },
     "metadata": {},
     "output_type": "display_data"
    },
    {
     "data": {
      "text/html": [
       "Tracking run with wandb version 0.15.4"
      ],
      "text/plain": [
       "<IPython.core.display.HTML object>"
      ]
     },
     "metadata": {},
     "output_type": "display_data"
    },
    {
     "data": {
      "text/html": [
       "Run data is saved locally in <code>/home/jia/workspace/parallel_corpus_mnbvc/notebooks/wandb/run-20230727_014041-7buv2ic8</code>"
      ],
      "text/plain": [
       "<IPython.core.display.HTML object>"
      ]
     },
     "metadata": {},
     "output_type": "display_data"
    },
    {
     "data": {
      "text/html": [
       "Syncing run <strong><a href='https://wandb.ai/mnbvc/text_segmentation/runs/7buv2ic8' target=\"_blank\">unique-disco-46</a></strong> to <a href='https://wandb.ai/mnbvc/text_segmentation' target=\"_blank\">Weights & Biases</a> (<a href='https://wandb.me/run' target=\"_blank\">docs</a>)<br/>"
      ],
      "text/plain": [
       "<IPython.core.display.HTML object>"
      ]
     },
     "metadata": {},
     "output_type": "display_data"
    },
    {
     "data": {
      "text/html": [
       " View project at <a href='https://wandb.ai/mnbvc/text_segmentation' target=\"_blank\">https://wandb.ai/mnbvc/text_segmentation</a>"
      ],
      "text/plain": [
       "<IPython.core.display.HTML object>"
      ]
     },
     "metadata": {},
     "output_type": "display_data"
    },
    {
     "data": {
      "text/html": [
       " View run at <a href='https://wandb.ai/mnbvc/text_segmentation/runs/7buv2ic8' target=\"_blank\">https://wandb.ai/mnbvc/text_segmentation/runs/7buv2ic8</a>"
      ],
      "text/plain": [
       "<IPython.core.display.HTML object>"
      ]
     },
     "metadata": {},
     "output_type": "display_data"
    },
    {
     "name": "stdout",
     "output_type": "stream",
     "text": [
      "Assuming detector is passed as a object\n",
      "remove 515053, word count: 274745\n"
     ]
    },
    {
     "data": {
      "application/vnd.jupyter.widget-view+json": {
       "model_id": "",
       "version_major": 2,
       "version_minor": 0
      },
      "text/plain": [
       "Filter:   0%|          | 0/19 [00:00<?, ? examples/s]"
      ]
     },
     "metadata": {},
     "output_type": "display_data"
    },
    {
     "name": "stderr",
     "output_type": "stream",
     "text": [
      "100%|██████████████████████████████████████████████████████████████████████████████████████████████████████████████████████████████████████████████████████████████████████| 18/18 [00:26<00:00,  1.45s/it]\n"
     ]
    },
    {
     "name": "stdout",
     "output_type": "stream",
     "text": [
      "Results DataFrame:\n",
      "     TP  FN  FP    TN record_id  accuracy\n",
      "0    32   1   3    30    425638  0.939394\n",
      "1   212  12  17   632    538854  0.966781\n",
      "2    26   1   1    72    490576  0.980000\n",
      "3   183  14  73  1435    432549  0.948974\n",
      "4    14   4   1    36    520748  0.909091\n",
      "5    13   0   0    13    581103  1.000000\n",
      "6    24   4   3    39    575569  0.900000\n",
      "7    10   0   0     9    475710  1.000000\n",
      "8   178   3  45   608    549220  0.942446\n",
      "9   182   4  10   641    563598  0.983274\n",
      "10   23   1   7    67    472576  0.918367\n",
      "11   16   0   0     9    546963  1.000000\n",
      "12  144   3  23   743    543866  0.971522\n",
      "13   79  11   8   155    510124  0.924901\n",
      "14   70  10   8   210    510286  0.939597\n",
      "15   17   1   0     4    608769  0.954545\n",
      "16   24   1   8    77    500849  0.918182\n",
      "17  234  56  86  1603    405414  0.928247\n",
      "\n",
      "Classification Report:\n",
      "              precision    recall  f1-score      support\n",
      "False          0.980642  0.956111  0.968221  6676.000000\n",
      "True           0.834837  0.921593  0.876072  1607.000000\n",
      "accuracy       0.949414  0.949414  0.949414     0.949414\n",
      "macro avg      0.907739  0.938852  0.922147  8283.000000\n",
      "weighted avg   0.952354  0.949414  0.950343  8283.000000\n"
     ]
    },
    {
     "data": {
      "text/html": [
       "Waiting for W&B process to finish... <strong style=\"color:green\">(success).</strong>"
      ],
      "text/plain": [
       "<IPython.core.display.HTML object>"
      ]
     },
     "metadata": {},
     "output_type": "display_data"
    }
   ],
   "source": [
    "wandb.init(project=\"text_segmentation\", name=None)\n",
    "eval_seg.main(detector, True, None)\n",
    "wandb.finish()"
   ]
  }
 ],
 "metadata": {
  "kernelspec": {
   "display_name": "Python 3 (ipykernel)",
   "language": "python",
   "name": "python3"
  },
  "language_info": {
   "codemirror_mode": {
    "name": "ipython",
    "version": 3
   },
   "file_extension": ".py",
   "mimetype": "text/x-python",
   "name": "python",
   "nbconvert_exporter": "python",
   "pygments_lexer": "ipython3",
   "version": "3.10.6"
  }
 },
 "nbformat": 4,
 "nbformat_minor": 5
}
